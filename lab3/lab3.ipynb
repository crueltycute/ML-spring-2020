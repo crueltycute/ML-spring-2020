{
 "cells": [
  {
   "cell_type": "markdown",
   "metadata": {},
   "source": [
    "### Подключение библиотек и выбор датасета"
   ]
  },
  {
   "cell_type": "code",
   "execution_count": 205,
   "metadata": {},
   "outputs": [],
   "source": [
    "import numpy as np\n",
    "import pandas as pd\n",
    "import seaborn as sns\n",
    "import matplotlib.pyplot as plt\n",
    "import sklearn.impute\n",
    "import sklearn.preprocessing\n",
    "from sklearn.impute import SimpleImputer\n",
    "from sklearn.preprocessing import LabelEncoder, OneHotEncoder\n",
    "from sklearn.preprocessing import MinMaxScaler, StandardScaler, Normalizer\n",
    "%matplotlib inline \n",
    "sns.set(style=\"ticks\")"
   ]
  },
  {
   "cell_type": "markdown",
   "metadata": {},
   "source": [
    "Для выполнения данной лабораторной работы возьмём набор данных отзывов на вино:"
   ]
  },
  {
   "cell_type": "code",
   "execution_count": 211,
   "metadata": {
    "scrolled": false
   },
   "outputs": [
    {
     "data": {
      "text/html": [
       "<div>\n",
       "<style scoped>\n",
       "    .dataframe tbody tr th:only-of-type {\n",
       "        vertical-align: middle;\n",
       "    }\n",
       "\n",
       "    .dataframe tbody tr th {\n",
       "        vertical-align: top;\n",
       "    }\n",
       "\n",
       "    .dataframe thead th {\n",
       "        text-align: right;\n",
       "    }\n",
       "</style>\n",
       "<table border=\"1\" class=\"dataframe\">\n",
       "  <thead>\n",
       "    <tr style=\"text-align: right;\">\n",
       "      <th></th>\n",
       "      <th>Unnamed: 0</th>\n",
       "      <th>country</th>\n",
       "      <th>description</th>\n",
       "      <th>designation</th>\n",
       "      <th>points</th>\n",
       "      <th>price</th>\n",
       "      <th>province</th>\n",
       "      <th>region_1</th>\n",
       "      <th>region_2</th>\n",
       "      <th>variety</th>\n",
       "      <th>winery</th>\n",
       "    </tr>\n",
       "  </thead>\n",
       "  <tbody>\n",
       "    <tr>\n",
       "      <th>0</th>\n",
       "      <td>0</td>\n",
       "      <td>US</td>\n",
       "      <td>This tremendous 100% varietal wine hails from ...</td>\n",
       "      <td>Martha's Vineyard</td>\n",
       "      <td>96</td>\n",
       "      <td>235.0</td>\n",
       "      <td>California</td>\n",
       "      <td>Napa Valley</td>\n",
       "      <td>Napa</td>\n",
       "      <td>Cabernet Sauvignon</td>\n",
       "      <td>Heitz</td>\n",
       "    </tr>\n",
       "    <tr>\n",
       "      <th>1</th>\n",
       "      <td>1</td>\n",
       "      <td>Spain</td>\n",
       "      <td>Ripe aromas of fig, blackberry and cassis are ...</td>\n",
       "      <td>Carodorum Selección Especial Reserva</td>\n",
       "      <td>96</td>\n",
       "      <td>110.0</td>\n",
       "      <td>Northern Spain</td>\n",
       "      <td>Toro</td>\n",
       "      <td>NaN</td>\n",
       "      <td>Tinta de Toro</td>\n",
       "      <td>Bodega Carmen Rodríguez</td>\n",
       "    </tr>\n",
       "    <tr>\n",
       "      <th>2</th>\n",
       "      <td>2</td>\n",
       "      <td>US</td>\n",
       "      <td>Mac Watson honors the memory of a wine once ma...</td>\n",
       "      <td>Special Selected Late Harvest</td>\n",
       "      <td>96</td>\n",
       "      <td>90.0</td>\n",
       "      <td>California</td>\n",
       "      <td>Knights Valley</td>\n",
       "      <td>Sonoma</td>\n",
       "      <td>Sauvignon Blanc</td>\n",
       "      <td>Macauley</td>\n",
       "    </tr>\n",
       "    <tr>\n",
       "      <th>3</th>\n",
       "      <td>3</td>\n",
       "      <td>US</td>\n",
       "      <td>This spent 20 months in 30% new French oak, an...</td>\n",
       "      <td>Reserve</td>\n",
       "      <td>96</td>\n",
       "      <td>65.0</td>\n",
       "      <td>Oregon</td>\n",
       "      <td>Willamette Valley</td>\n",
       "      <td>Willamette Valley</td>\n",
       "      <td>Pinot Noir</td>\n",
       "      <td>Ponzi</td>\n",
       "    </tr>\n",
       "    <tr>\n",
       "      <th>4</th>\n",
       "      <td>4</td>\n",
       "      <td>France</td>\n",
       "      <td>This is the top wine from La Bégude, named aft...</td>\n",
       "      <td>La Brûlade</td>\n",
       "      <td>95</td>\n",
       "      <td>66.0</td>\n",
       "      <td>Provence</td>\n",
       "      <td>Bandol</td>\n",
       "      <td>NaN</td>\n",
       "      <td>Provence red blend</td>\n",
       "      <td>Domaine de la Bégude</td>\n",
       "    </tr>\n",
       "  </tbody>\n",
       "</table>\n",
       "</div>"
      ],
      "text/plain": [
       "   Unnamed: 0 country                                        description  \\\n",
       "0           0      US  This tremendous 100% varietal wine hails from ...   \n",
       "1           1   Spain  Ripe aromas of fig, blackberry and cassis are ...   \n",
       "2           2      US  Mac Watson honors the memory of a wine once ma...   \n",
       "3           3      US  This spent 20 months in 30% new French oak, an...   \n",
       "4           4  France  This is the top wine from La Bégude, named aft...   \n",
       "\n",
       "                            designation  points  price        province  \\\n",
       "0                     Martha's Vineyard      96  235.0      California   \n",
       "1  Carodorum Selección Especial Reserva      96  110.0  Northern Spain   \n",
       "2         Special Selected Late Harvest      96   90.0      California   \n",
       "3                               Reserve      96   65.0          Oregon   \n",
       "4                            La Brûlade      95   66.0        Provence   \n",
       "\n",
       "            region_1           region_2             variety  \\\n",
       "0        Napa Valley               Napa  Cabernet Sauvignon   \n",
       "1               Toro                NaN       Tinta de Toro   \n",
       "2     Knights Valley             Sonoma     Sauvignon Blanc   \n",
       "3  Willamette Valley  Willamette Valley          Pinot Noir   \n",
       "4             Bandol                NaN  Provence red blend   \n",
       "\n",
       "                    winery  \n",
       "0                    Heitz  \n",
       "1  Bodega Carmen Rodríguez  \n",
       "2                 Macauley  \n",
       "3                    Ponzi  \n",
       "4     Domaine de la Bégude  "
      ]
     },
     "execution_count": 211,
     "metadata": {},
     "output_type": "execute_result"
    }
   ],
   "source": [
    "data = pd.read_csv('../data/winemag.csv')\n",
    "data.head()"
   ]
  },
  {
   "cell_type": "markdown",
   "metadata": {},
   "source": [
    "Размеры выбранного набора:"
   ]
  },
  {
   "cell_type": "code",
   "execution_count": 14,
   "metadata": {
    "scrolled": true
   },
   "outputs": [
    {
     "data": {
      "text/plain": [
       "(150930, 11)"
      ]
     },
     "execution_count": 14,
     "metadata": {},
     "output_type": "execute_result"
    }
   ],
   "source": [
    "data.shape"
   ]
  },
  {
   "cell_type": "markdown",
   "metadata": {},
   "source": [
    "Типы колонок:"
   ]
  },
  {
   "cell_type": "code",
   "execution_count": 15,
   "metadata": {},
   "outputs": [
    {
     "data": {
      "text/plain": [
       "Unnamed: 0       int64\n",
       "country         object\n",
       "description     object\n",
       "designation     object\n",
       "points           int64\n",
       "price          float64\n",
       "province        object\n",
       "region_1        object\n",
       "region_2        object\n",
       "variety         object\n",
       "winery          object\n",
       "dtype: object"
      ]
     },
     "execution_count": 15,
     "metadata": {},
     "output_type": "execute_result"
    }
   ],
   "source": [
    "data.dtypes"
   ]
  },
  {
   "cell_type": "markdown",
   "metadata": {},
   "source": [
    "### 1. Обработка пропусков в данных"
   ]
  },
  {
   "cell_type": "markdown",
   "metadata": {},
   "source": [
    "Проверим пропуски в данных:"
   ]
  },
  {
   "cell_type": "code",
   "execution_count": 18,
   "metadata": {},
   "outputs": [
    {
     "name": "stdout",
     "output_type": "stream",
     "text": [
      "country - object - 5\n",
      "designation - object - 45735\n",
      "price - float64 - 13695\n",
      "province - object - 5\n",
      "region_1 - object - 25060\n",
      "region_2 - object - 89977\n"
     ]
    }
   ],
   "source": [
    "for col in data.columns:\n",
    "    null_count = data[data[col].isnull()].shape[0]\n",
    "    if null_count > 0:\n",
    "        column_type = data[col].dtype\n",
    "        print('{} - {} - {}'.format(col, column_type, null_count))"
   ]
  },
  {
   "cell_type": "markdown",
   "metadata": {},
   "source": [
    "#### 1.1 Удаление пустых значений"
   ]
  },
  {
   "cell_type": "markdown",
   "metadata": {},
   "source": [
    "Выполним удаление записей с пустыми значениями в столбце region_2:"
   ]
  },
  {
   "cell_type": "code",
   "execution_count": 28,
   "metadata": {},
   "outputs": [],
   "source": [
    "data = data[data['region_2'].notna()]"
   ]
  },
  {
   "cell_type": "markdown",
   "metadata": {},
   "source": [
    "Проверим размеры набора:"
   ]
  },
  {
   "cell_type": "code",
   "execution_count": 29,
   "metadata": {},
   "outputs": [
    {
     "data": {
      "text/plain": [
       "(60953, 11)"
      ]
     },
     "execution_count": 29,
     "metadata": {},
     "output_type": "execute_result"
    }
   ],
   "source": [
    "data.shape"
   ]
  },
  {
   "cell_type": "markdown",
   "metadata": {},
   "source": [
    "#### 1.2 Заполнение нулями"
   ]
  },
  {
   "cell_type": "markdown",
   "metadata": {},
   "source": [
    "Пропущенные значения в столбце price:"
   ]
  },
  {
   "cell_type": "code",
   "execution_count": 42,
   "metadata": {},
   "outputs": [
    {
     "data": {
      "text/plain": [
       "(13695, 11)"
      ]
     },
     "execution_count": 42,
     "metadata": {},
     "output_type": "execute_result"
    }
   ],
   "source": [
    "data[data['price'].isnull()].shape"
   ]
  },
  {
   "cell_type": "markdown",
   "metadata": {},
   "source": [
    "Заполним пропуски нулями:"
   ]
  },
  {
   "cell_type": "code",
   "execution_count": 34,
   "metadata": {},
   "outputs": [],
   "source": [
    "data['price'] = data['price'].fillna(0)"
   ]
  },
  {
   "cell_type": "markdown",
   "metadata": {},
   "source": [
    "Проверим количество пропусков:"
   ]
  },
  {
   "cell_type": "code",
   "execution_count": 35,
   "metadata": {},
   "outputs": [
    {
     "data": {
      "text/plain": [
       "(0, 11)"
      ]
     },
     "execution_count": 35,
     "metadata": {},
     "output_type": "execute_result"
    }
   ],
   "source": [
    "data[data['price'].isnull()].shape"
   ]
  },
  {
   "cell_type": "markdown",
   "metadata": {},
   "source": [
    "#### 1.3 Внедрение значений в числовых данных"
   ]
  },
  {
   "cell_type": "markdown",
   "metadata": {},
   "source": [
    "Гистограмма для количественного признака price:"
   ]
  },
  {
   "cell_type": "code",
   "execution_count": 72,
   "metadata": {
    "scrolled": false
   },
   "outputs": [
    {
     "data": {
      "text/plain": [
       "<matplotlib.axes._subplots.AxesSubplot at 0x13d745da0>"
      ]
     },
     "execution_count": 72,
     "metadata": {},
     "output_type": "execute_result"
    },
    {
     "data": {
      "image/png": "[encoded data removed]",
      "text/plain": [
       "<Figure size 432x288 with 1 Axes>"
      ]
     },
     "metadata": {},
     "output_type": "display_data"
    }
   ],
   "source": [
    "data['price'].plot.hist()"
   ]
  },
  {
   "cell_type": "markdown",
   "metadata": {},
   "source": [
    "Количество пропусков:"
   ]
  },
  {
   "cell_type": "code",
   "execution_count": 73,
   "metadata": {},
   "outputs": [
    {
     "data": {
      "text/plain": [
       "(13695, 11)"
      ]
     },
     "execution_count": 73,
     "metadata": {},
     "output_type": "execute_result"
    }
   ],
   "source": [
    "data[data['price'].isnull()].shape"
   ]
  },
  {
   "cell_type": "markdown",
   "metadata": {},
   "source": [
    "Посмотрим статистику:"
   ]
  },
  {
   "cell_type": "code",
   "execution_count": 74,
   "metadata": {
    "scrolled": true
   },
   "outputs": [
    {
     "data": {
      "text/html": [
       "<div>\n",
       "<style scoped>\n",
       "    .dataframe tbody tr th:only-of-type {\n",
       "        vertical-align: middle;\n",
       "    }\n",
       "\n",
       "    .dataframe tbody tr th {\n",
       "        vertical-align: top;\n",
       "    }\n",
       "\n",
       "    .dataframe thead th {\n",
       "        text-align: right;\n",
       "    }\n",
       "</style>\n",
       "<table border=\"1\" class=\"dataframe\">\n",
       "  <thead>\n",
       "    <tr style=\"text-align: right;\">\n",
       "      <th></th>\n",
       "      <th>price</th>\n",
       "    </tr>\n",
       "  </thead>\n",
       "  <tbody>\n",
       "    <tr>\n",
       "      <th>count</th>\n",
       "      <td>137235.000000</td>\n",
       "    </tr>\n",
       "    <tr>\n",
       "      <th>mean</th>\n",
       "      <td>33.131482</td>\n",
       "    </tr>\n",
       "    <tr>\n",
       "      <th>std</th>\n",
       "      <td>36.322536</td>\n",
       "    </tr>\n",
       "    <tr>\n",
       "      <th>min</th>\n",
       "      <td>4.000000</td>\n",
       "    </tr>\n",
       "    <tr>\n",
       "      <th>25%</th>\n",
       "      <td>16.000000</td>\n",
       "    </tr>\n",
       "    <tr>\n",
       "      <th>50%</th>\n",
       "      <td>24.000000</td>\n",
       "    </tr>\n",
       "    <tr>\n",
       "      <th>75%</th>\n",
       "      <td>40.000000</td>\n",
       "    </tr>\n",
       "    <tr>\n",
       "      <th>max</th>\n",
       "      <td>2300.000000</td>\n",
       "    </tr>\n",
       "  </tbody>\n",
       "</table>\n",
       "</div>"
      ],
      "text/plain": [
       "               price\n",
       "count  137235.000000\n",
       "mean       33.131482\n",
       "std        36.322536\n",
       "min         4.000000\n",
       "25%        16.000000\n",
       "50%        24.000000\n",
       "75%        40.000000\n",
       "max      2300.000000"
      ]
     },
     "execution_count": 74,
     "metadata": {},
     "output_type": "execute_result"
    }
   ],
   "source": [
    "data[['price']].describe()"
   ]
  },
  {
   "cell_type": "markdown",
   "metadata": {},
   "source": [
    "Выполним импьютацию по трем стратегиям:"
   ]
  },
  {
   "cell_type": "code",
   "execution_count": 66,
   "metadata": {},
   "outputs": [],
   "source": [
    "strategies=['mean', 'median','most_frequent']"
   ]
  },
  {
   "cell_type": "markdown",
   "metadata": {},
   "source": [
    "##### *Среднее значение (mean):*"
   ]
  },
  {
   "cell_type": "code",
   "execution_count": 125,
   "metadata": {},
   "outputs": [
    {
     "data": {
      "text/plain": [
       "33.13148249353299"
      ]
     },
     "execution_count": 125,
     "metadata": {},
     "output_type": "execute_result"
    }
   ],
   "source": [
    "data['price'].describe()['mean']"
   ]
  },
  {
   "cell_type": "markdown",
   "metadata": {},
   "source": [
    "Внедрение значений:"
   ]
  },
  {
   "cell_type": "code",
   "execution_count": 126,
   "metadata": {},
   "outputs": [
    {
     "data": {
      "text/plain": [
       "0         235.0\n",
       "1         110.0\n",
       "2          90.0\n",
       "3          65.0\n",
       "4          66.0\n",
       "          ...  \n",
       "150925     20.0\n",
       "150926     27.0\n",
       "150927     20.0\n",
       "150928     52.0\n",
       "150929     15.0\n",
       "Name: price, Length: 150930, dtype: float64"
      ]
     },
     "execution_count": 126,
     "metadata": {},
     "output_type": "execute_result"
    }
   ],
   "source": [
    "imp = SimpleImputer(strategy=strategies[0])\n",
    "data['price'] = imp.fit_transform(data[['price']])\n",
    "data['price']"
   ]
  },
  {
   "cell_type": "markdown",
   "metadata": {},
   "source": [
    "##### *Медианное значение (median):*"
   ]
  },
  {
   "cell_type": "code",
   "execution_count": 128,
   "metadata": {},
   "outputs": [
    {
     "data": {
      "text/plain": [
       "0         235.0\n",
       "1         110.0\n",
       "2          90.0\n",
       "3          65.0\n",
       "4          66.0\n",
       "          ...  \n",
       "150925     20.0\n",
       "150926     27.0\n",
       "150927     20.0\n",
       "150928     52.0\n",
       "150929     15.0\n",
       "Name: price, Length: 150930, dtype: float64"
      ]
     },
     "execution_count": 128,
     "metadata": {},
     "output_type": "execute_result"
    }
   ],
   "source": [
    "imp = SimpleImputer(strategy=strategies[1])\n",
    "data['price'] = imp.fit_transform(data[['price']])\n",
    "data['price']"
   ]
  },
  {
   "cell_type": "markdown",
   "metadata": {},
   "source": [
    "##### *Наиболее часто встречающееся значение (most_frequent):*"
   ]
  },
  {
   "cell_type": "code",
   "execution_count": 130,
   "metadata": {},
   "outputs": [
    {
     "data": {
      "text/plain": [
       "0         235.0\n",
       "1         110.0\n",
       "2          90.0\n",
       "3          65.0\n",
       "4          66.0\n",
       "          ...  \n",
       "150925     20.0\n",
       "150926     27.0\n",
       "150927     20.0\n",
       "150928     52.0\n",
       "150929     15.0\n",
       "Name: price, Length: 150930, dtype: float64"
      ]
     },
     "execution_count": 130,
     "metadata": {},
     "output_type": "execute_result"
    }
   ],
   "source": [
    "imp = SimpleImputer(strategy=strategies[2])\n",
    "data['price'] = imp.fit_transform(data[['price']])\n",
    "data['price']"
   ]
  },
  {
   "cell_type": "markdown",
   "metadata": {},
   "source": [
    "#### 1.4 Внедрение значений в категориальных данных"
   ]
  },
  {
   "cell_type": "markdown",
   "metadata": {},
   "source": [
    "Категориальные колонки с пропусками:"
   ]
  },
  {
   "cell_type": "code",
   "execution_count": 164,
   "metadata": {},
   "outputs": [
    {
     "name": "stdout",
     "output_type": "stream",
     "text": [
      "country - object - 5\n",
      "designation - object - 45735\n",
      "province - object - 5\n",
      "region_1 - object - 25060\n",
      "region_2 - object - 89977\n"
     ]
    }
   ],
   "source": [
    "for col in data.columns:\n",
    "    temp_null_count = data[data[col].isnull()].shape[0]\n",
    "    dt = str(data[col].dtype)\n",
    "    if temp_null_count>0 and (dt=='object'):\n",
    "        print('{} - {} - {}'.format(col, dt, temp_null_count))"
   ]
  },
  {
   "cell_type": "markdown",
   "metadata": {},
   "source": [
    "Выполним импьютацию наиболее частыми значениями в поле designation:"
   ]
  },
  {
   "cell_type": "code",
   "execution_count": 165,
   "metadata": {},
   "outputs": [],
   "source": [
    "imp = SimpleImputer(strategy='most_frequent')\n",
    "data['designation'] = imp.fit_transform(data[['designation']])"
   ]
  },
  {
   "cell_type": "code",
   "execution_count": 166,
   "metadata": {},
   "outputs": [
    {
     "data": {
      "text/plain": [
       "0                            Martha's Vineyard\n",
       "1         Carodorum Selección Especial Reserva\n",
       "2                Special Selected Late Harvest\n",
       "3                                      Reserve\n",
       "4                                   La Brûlade\n",
       "                          ...                 \n",
       "150925                                 Reserve\n",
       "150926                          Cuvée Prestige\n",
       "150927                           Terre di Dora\n",
       "150928                         Grand Brut Rosé\n",
       "150929                                 Reserve\n",
       "Name: designation, Length: 150930, dtype: object"
      ]
     },
     "execution_count": 166,
     "metadata": {},
     "output_type": "execute_result"
    }
   ],
   "source": [
    "data['designation']"
   ]
  },
  {
   "cell_type": "markdown",
   "metadata": {},
   "source": [
    "### 2. Кодирование категориальных признаков"
   ]
  },
  {
   "cell_type": "markdown",
   "metadata": {},
   "source": [
    "Категориальные признаки:"
   ]
  },
  {
   "cell_type": "code",
   "execution_count": 135,
   "metadata": {},
   "outputs": [
    {
     "name": "stdout",
     "output_type": "stream",
     "text": [
      "country\n",
      "description\n",
      "designation\n",
      "province\n",
      "region_1\n",
      "region_2\n",
      "variety\n",
      "winery\n"
     ]
    }
   ],
   "source": [
    "for col in data.columns:\n",
    "    column_type = data[col].dtype\n",
    "    if column_type == 'object':\n",
    "        print(col)"
   ]
  },
  {
   "cell_type": "markdown",
   "metadata": {},
   "source": [
    "#### 2.1 Кодирование категорий целочисленными значениями"
   ]
  },
  {
   "cell_type": "markdown",
   "metadata": {},
   "source": [
    "Категориальный признак winery, не имеющий пропусков:"
   ]
  },
  {
   "cell_type": "code",
   "execution_count": 173,
   "metadata": {},
   "outputs": [
    {
     "data": {
      "text/plain": [
       "array(['Heitz', 'Bodega Carmen Rodríguez', 'Macauley', ..., 'Screwed',\n",
       "       'Red Bucket', 'White Knot'], dtype=object)"
      ]
     },
     "execution_count": 173,
     "metadata": {},
     "output_type": "execute_result"
    }
   ],
   "source": [
    "data['winery'].unique()"
   ]
  },
  {
   "cell_type": "code",
   "execution_count": 174,
   "metadata": {},
   "outputs": [
    {
     "data": {
      "text/plain": [
       "(0, 12)"
      ]
     },
     "execution_count": 174,
     "metadata": {},
     "output_type": "execute_result"
    }
   ],
   "source": [
    "data[data['winery'].isnull()].shape"
   ]
  },
  {
   "cell_type": "markdown",
   "metadata": {},
   "source": [
    "Выполним кодирование:"
   ]
  },
  {
   "cell_type": "code",
   "execution_count": 175,
   "metadata": {},
   "outputs": [],
   "source": [
    "le = LabelEncoder()\n",
    "data['winery_enc'] = le.fit_transform(data['winery'])"
   ]
  },
  {
   "cell_type": "code",
   "execution_count": 176,
   "metadata": {},
   "outputs": [
    {
     "data": {
      "text/plain": [
       "array([ 7286,  1231,  9032, ..., 12161, 11444, 14487])"
      ]
     },
     "execution_count": 176,
     "metadata": {},
     "output_type": "execute_result"
    }
   ],
   "source": [
    "data['winery_enc'].unique()"
   ]
  },
  {
   "cell_type": "markdown",
   "metadata": {},
   "source": [
    "Проверим значения:"
   ]
  },
  {
   "cell_type": "code",
   "execution_count": 178,
   "metadata": {},
   "outputs": [
    {
     "data": {
      "text/plain": [
       "array(['Heitz', 'Macauley', 'Screwed', 'Red Bucket', 'White Knot'],\n",
       "      dtype=object)"
      ]
     },
     "execution_count": 178,
     "metadata": {},
     "output_type": "execute_result"
    }
   ],
   "source": [
    "le.inverse_transform([7286, 9032, 12161, 11444, 14487])"
   ]
  },
  {
   "cell_type": "code",
   "execution_count": 180,
   "metadata": {},
   "outputs": [
    {
     "data": {
      "text/html": [
       "<div>\n",
       "<style scoped>\n",
       "    .dataframe tbody tr th:only-of-type {\n",
       "        vertical-align: middle;\n",
       "    }\n",
       "\n",
       "    .dataframe tbody tr th {\n",
       "        vertical-align: top;\n",
       "    }\n",
       "\n",
       "    .dataframe thead th {\n",
       "        text-align: right;\n",
       "    }\n",
       "</style>\n",
       "<table border=\"1\" class=\"dataframe\">\n",
       "  <thead>\n",
       "    <tr style=\"text-align: right;\">\n",
       "      <th></th>\n",
       "      <th>winery</th>\n",
       "      <th>winery_enc</th>\n",
       "    </tr>\n",
       "  </thead>\n",
       "  <tbody>\n",
       "    <tr>\n",
       "      <th>0</th>\n",
       "      <td>Heitz</td>\n",
       "      <td>7286</td>\n",
       "    </tr>\n",
       "    <tr>\n",
       "      <th>1</th>\n",
       "      <td>Bodega Carmen Rodríguez</td>\n",
       "      <td>1231</td>\n",
       "    </tr>\n",
       "    <tr>\n",
       "      <th>2</th>\n",
       "      <td>Macauley</td>\n",
       "      <td>9032</td>\n",
       "    </tr>\n",
       "    <tr>\n",
       "      <th>3</th>\n",
       "      <td>Ponzi</td>\n",
       "      <td>11001</td>\n",
       "    </tr>\n",
       "    <tr>\n",
       "      <th>4</th>\n",
       "      <td>Domaine de la Bégude</td>\n",
       "      <td>5409</td>\n",
       "    </tr>\n",
       "  </tbody>\n",
       "</table>\n",
       "</div>"
      ],
      "text/plain": [
       "                    winery  winery_enc\n",
       "0                    Heitz        7286\n",
       "1  Bodega Carmen Rodríguez        1231\n",
       "2                 Macauley        9032\n",
       "3                    Ponzi       11001\n",
       "4     Domaine de la Bégude        5409"
      ]
     },
     "execution_count": 180,
     "metadata": {},
     "output_type": "execute_result"
    }
   ],
   "source": [
    "data[['winery','winery_enc']].head()"
   ]
  },
  {
   "cell_type": "markdown",
   "metadata": {},
   "source": [
    "#### 2.2. Кодирование категорий наборами бинарных значений"
   ]
  },
  {
   "cell_type": "markdown",
   "metadata": {},
   "source": [
    "Категориальный признак variety, не имеющий пропусков:"
   ]
  },
  {
   "cell_type": "code",
   "execution_count": 181,
   "metadata": {},
   "outputs": [
    {
     "data": {
      "text/plain": [
       "array(['Cabernet Sauvignon', 'Tinta de Toro', 'Sauvignon Blanc',\n",
       "       'Pinot Noir', 'Provence red blend', 'Friulano', 'Tannat',\n",
       "       'Chardonnay', 'Tempranillo', 'Malbec', 'Rosé', 'Tempranillo Blend',\n",
       "       'Syrah', 'Mavrud', 'Sangiovese', 'Sparkling Blend',\n",
       "       'Rhône-style White Blend', 'Red Blend', 'Mencía', 'Palomino',\n",
       "       'Petite Sirah', 'Riesling', 'Cabernet Sauvignon-Syrah',\n",
       "       'Portuguese Red', 'Nebbiolo', 'Pinot Gris', 'Meritage', 'Baga',\n",
       "       'Glera', 'Malbec-Merlot', 'Merlot-Malbec', 'Ugni Blanc-Colombard',\n",
       "       'Viognier', 'Cabernet Sauvignon-Cabernet Franc', 'Moscato',\n",
       "       'Pinot Grigio', 'Cabernet Franc', 'White Blend', 'Monastrell',\n",
       "       'Gamay', 'Zinfandel', 'Greco', 'Barbera', 'Grenache',\n",
       "       'Rhône-style Red Blend', 'Albariño', 'Malvasia Bianca',\n",
       "       'Assyrtiko', 'Malagouzia', 'Carmenère', 'Bordeaux-style Red Blend',\n",
       "       'Touriga Nacional', 'Agiorgitiko', 'Picpoul', 'Godello',\n",
       "       'Gewürztraminer', 'Merlot', 'Syrah-Grenache', 'G-S-M', 'Mourvèdre',\n",
       "       'Bordeaux-style White Blend', 'Petit Verdot', 'Muscat',\n",
       "       'Chenin Blanc-Chardonnay', 'Cabernet Sauvignon-Merlot',\n",
       "       'Pinot Bianco', 'Alvarinho', 'Portuguese White', 'Garganega',\n",
       "       'Sauvignon', 'Gros and Petit Manseng', 'Tannat-Cabernet',\n",
       "       'Alicante Bouschet', 'Aragonês', 'Silvaner', 'Ugni Blanc',\n",
       "       'Grüner Veltliner', 'Frappato', 'Lemberger', 'Sylvaner',\n",
       "       'Chasselas', 'Alsace white blend', 'Früburgunder', 'Kekfrankos',\n",
       "       'Vermentino', 'Sherry', 'Aglianico', 'Torrontés', 'Primitivo',\n",
       "       'Semillon-Sauvignon Blanc', 'Portuguese Rosé', 'Grenache-Syrah',\n",
       "       'Prié Blanc', 'Negrette', 'Furmint', 'Carignane', 'Pinot Blanc',\n",
       "       \"Nero d'Avola\", 'St. Laurent', 'Blauburgunder', 'Blaufränkisch',\n",
       "       'Scheurebe', 'Ribolla Gialla', 'Charbono',\n",
       "       'Malbec-Cabernet Sauvignon', 'Pinot Noir-Gamay', 'Pinot Nero',\n",
       "       'Gros Manseng', 'Nerello Mascalese', 'Shiraz', 'Negroamaro',\n",
       "       'Champagne Blend', 'Romorantin', 'Syrah-Cabernet Sauvignon',\n",
       "       'Tannat-Merlot', 'Duras', 'Garnacha', 'Tinta Francisca',\n",
       "       'Portuguese Sparkling', 'Chenin Blanc', 'Turbiana',\n",
       "       'Petite Verdot', 'Posip', 'Fumé Blanc', 'Roussanne', 'Grillo',\n",
       "       'Müller-Thurgau', 'Pinot Auxerrois', 'Port', 'Cabernet Blend',\n",
       "       'Cabernet Franc-Cabernet Sauvignon', 'Castelão', 'Encruzado',\n",
       "       'Touriga Nacional-Cabernet Sauvignon', 'Colombard-Sauvignon Blanc',\n",
       "       'Moscatel', 'Marsanne', 'Siria', 'Garnacha Blanca',\n",
       "       'Merlot-Cabernet Sauvignon', 'Arinto', 'Petit Manseng', 'Loureiro',\n",
       "       'Melon', 'Carricante', 'Fiano', 'Schwartzriesling',\n",
       "       'Sangiovese-Syrah', 'Tannat-Cabernet Franc',\n",
       "       'Cabernet Franc-Merlot', 'Sauvignon Blanc-Semillon', 'Macabeo',\n",
       "       'Alfrocheiro', 'Aligoté', 'Verdejo', 'Grenache Blanc',\n",
       "       'Fernão Pires', 'Spätburgunder', 'Ciliegiolo',\n",
       "       'Cabernet Sauvignon-Carmenère', 'Auxerrois', 'Sirica', 'Zweigelt',\n",
       "       'Pugnitello', 'Rosado', 'Rosato', 'Malvazija', 'Kalecik Karasi',\n",
       "       'Muskat Ottonel', 'Malbec-Bonarda',\n",
       "       'Tempranillo-Cabernet Sauvignon', 'Rivaner', 'Trepat', 'Baco Noir',\n",
       "       'Trebbiano', 'Chardonnay-Viognier', 'Syrah-Mourvèdre', 'Graciano',\n",
       "       'Roviello', 'Perricone', 'Falanghina', 'Vranec', 'Carignan',\n",
       "       'Cabernet-Shiraz', 'Verdelho', 'Pedro Ximénez',\n",
       "       'Marsanne-Roussanne', 'Malbec Blend', 'Weissburgunder', 'Morava',\n",
       "       'Ruen', 'Hondarrabi Zuri', 'Catarratto',\n",
       "       'Chardonnay-Sauvignon Blanc', 'Vidal', 'Rieslaner', 'Dornfelder',\n",
       "       'Tinto Fino', 'Gelber Muskateller', 'Roter Veltliner', 'Aragonez',\n",
       "       'Vitovska', 'Pinot Noir-Syrah', 'Gamay Noir', 'Grauburgunder',\n",
       "       'Cannonau', 'Mauzac', 'Austrian Red Blend', 'Sémillon',\n",
       "       'Lambrusco di Sorbara', 'Teran', 'Dolcetto', 'Cinsault',\n",
       "       'Assyrtico', 'Teroldego', 'Tamjanika', 'Boğazkere', 'Kadarka',\n",
       "       'Narince', 'Malbec-Petit Verdot', 'Veltliner', 'Traminer',\n",
       "       'Lambrusco', 'Arneis', 'Cabernet Sauvignon-Shiraz',\n",
       "       'Tocai Friulano', 'Fer Servadou', 'Muskateller',\n",
       "       'Nerello Cappuccio', 'Moscatel Roxo', 'Elbling', 'Saperavi',\n",
       "       'Antão Vaz', 'Pinot Meunier', 'Petite Syrah', 'Malvasia',\n",
       "       'Malbec-Tannat', 'Kallmet', 'Syrah-Merlot', 'Montepulciano',\n",
       "       'Kerner', 'Alvarinho-Chardonnay', 'Žilavka', 'Vinhão',\n",
       "       'Chardonnay-Semillon', 'Carmenère-Cabernet Sauvignon',\n",
       "       'Merlot-Cabernet Franc', 'Orangetraube',\n",
       "       'Cabernet Sauvignon-Sangiovese', 'Okuzgozu', 'Viura',\n",
       "       'Garnacha-Syrah', 'Zibibbo', 'Feteasca', 'Xarel-lo', 'Prokupac',\n",
       "       'Códega do Larinho', 'Touriga Nacional Blend', 'Inzolia',\n",
       "       'Cabernet-Syrah', 'Lambrusco Grasparossa', 'Malagousia',\n",
       "       'Cabernet Franc-Malbec', 'Feteasca Neagra', 'Yapincak',\n",
       "       'Tempranillo-Shiraz', 'Cabernet Sauvignon Grenache', 'Tinta Roriz',\n",
       "       'Merlot-Syrah', 'Tinta Fina', 'Colombard-Ugni Blanc', 'Colombard',\n",
       "       'Roditis', 'Grenache-Carignan', 'Emir', 'Orange Muscat',\n",
       "       'Karalahna', 'Trincadeira', 'Refosco', 'Pied de Perdrix',\n",
       "       'Vignoles', 'Carignan-Grenache', \"Muscat d'Alexandrie\", 'Bobal',\n",
       "       'Symphony', 'Norton', 'Sauvignon Blanc-Sauvignon Gris',\n",
       "       'Rkatsiteli', 'Roussanne-Viognier', 'Pinela', 'Blatina',\n",
       "       'Shiraz-Viognier', 'Bonarda', 'Sauvignon Blanc-Chardonnay',\n",
       "       'Chambourcin', 'Traminette', 'Grenache Blend', 'Jaen', 'Mondeuse',\n",
       "       'Feteascǎ Regalǎ', 'Teroldego Rotaliano',\n",
       "       'Sangiovese-Cabernet Sauvignon', 'Listán Negro',\n",
       "       'Syrah-Petite Sirah', 'Viognier-Chardonnay', 'Kuntra', 'Jacquère',\n",
       "       'Portuguiser', 'Grecanico', 'Verdejo-Viura', 'Tinto del Pais',\n",
       "       'Moscato Giallo', 'Cabernet Sauvignon-Malbec', 'Mission',\n",
       "       'Neuburger', 'Bastardo', 'Bical', 'Sacy', 'Carineña',\n",
       "       'Garnacha-Tempranillo', 'Pecorino', 'Garnacha Blend', 'Cococciola',\n",
       "       'Passerina', 'Gaglioppo', 'Garnacha Tintorera', 'Prieto Picudo',\n",
       "       'Tempranillo Blanco', \"Cesanese d'Affile\", 'Muscat Canelli',\n",
       "       'Cabernet', 'Malvasia Nera', 'Premsal', 'Mansois',\n",
       "       'Welschriesling', 'Shiraz-Tempranillo', 'Verdicchio', 'Sagrantino',\n",
       "       'Rolle', 'Trousseau Gris', 'Counoise', 'Mantonico',\n",
       "       'Cariñena-Garnacha', 'Insolia', 'Tokaji', 'Austrian white blend',\n",
       "       'Shiraz-Grenache', 'Claret', 'Syrah-Tempranillo', 'Uva di Troia',\n",
       "       'Aleatico', 'Piedirosso', 'Viognier-Marsanne',\n",
       "       'Pinot Grigio-Sauvignon Blanc', 'Pallagrello Nero',\n",
       "       'Chardonnay-Albariño', 'Savagnin', 'Pinotage', 'Braucol',\n",
       "       'Moschofilero', 'Nero di Troia', 'Carignano', 'Susumaniello',\n",
       "       'Baga-Touriga Nacional', 'Vidal Blanc', 'Vernaccia',\n",
       "       'Corvina, Rondinella, Molinara', 'Mavrotragano',\n",
       "       'Garnacha-Monastrell', 'Lagrein', 'Cabernet Merlot',\n",
       "       'Monastrell-Syrah', 'Malbec-Tempranillo', 'Syrah-Viognier',\n",
       "       'Verdeca', 'Sangiovese Grosso', 'Merlot-Argaman',\n",
       "       'Chenin Blanc-Viognier', 'Garnacha-Cabernet', 'Maturana', 'Malvar',\n",
       "       'Airen', 'Monica', 'Gewürztraminer-Riesling', 'Prugnolo Gentile',\n",
       "       'Steen', 'Chenin Blanc-Sauvignon Blanc',\n",
       "       'Shiraz-Cabernet Sauvignon', 'Picolit', 'Prosecco',\n",
       "       'White Riesling', 'White Port', 'Zierfandler', 'Petroulianos',\n",
       "       'Mavrodaphne', 'Savatiano', 'Tempranillo-Garnacha', 'Vidadillo',\n",
       "       'Syrah-Cabernet', 'Gelber Traminer', 'Grenache-Shiraz',\n",
       "       'Rotgipfler', 'Cabernet Sauvignon-Tempranillo', 'Edelzwicker',\n",
       "       'Cortese', 'Chardonnay Weissburgunder', 'Torbato', 'Verduzzo',\n",
       "       'Debit', 'Bovale', 'Tempranillo-Merlot', 'Xinisteri',\n",
       "       'Merlot-Cabernet', 'Verdejo-Sauvignon Blanc', 'Black Muscat',\n",
       "       'Koshu', 'Királyleányka', 'Favorita', 'Xinomavro',\n",
       "       'Cserszegi Fűszeres', 'Hárslevelü', 'Pallagrello', 'Mavroudi',\n",
       "       'Muscat Blanc', 'Schiava', 'Meoru', 'Nuragus',\n",
       "       'Trebbiano di Lugana', 'Coda di Volpe', 'Raboso',\n",
       "       'Shiraz-Pinotage', 'Enantio', 'Greco Bianco', 'Tai', 'Tokay',\n",
       "       'Muscadel', 'Cabernet Franc-Carmenère', 'Tintilia ', 'Segalin',\n",
       "       'Lacrima', 'Cerceal', 'Cayuga', 'Sauvignon Gris', 'Albana',\n",
       "       'Corvina', 'Macabeo-Moscatel', 'Macabeo-Chardonnay', 'Moscadello',\n",
       "       'Nasco', 'Viognier-Roussanne', 'Plavac Mali',\n",
       "       'Cabernet Sauvignon-Merlot-Shiraz', 'Sauvignon Blanc-Chenin Blanc',\n",
       "       'Shiraz-Mourvèdre', 'Albarín', 'Black Monukka', 'Morio Muskat',\n",
       "       'Nielluciu', 'Alicante', 'Cabernet Sauvignon and Tinta Roriz',\n",
       "       'Viura-Chardonnay', \"Loin de l'Oeil\", 'Roter Traminer',\n",
       "       'Karasakiz', 'Casavecchia', 'Malvasia-Viura', 'Nosiola',\n",
       "       'Incrocio Manzoni', 'Viura-Verdejo', 'Erbaluce', 'Forcallà',\n",
       "       'Pansa Blanca', 'Catalanesca', 'Muscadelle', 'Malbec-Syrah',\n",
       "       'Petit Meslier', 'Johannisberg Riesling', 'Pignoletto',\n",
       "       'Cabernet Pfeffer', 'Syrah-Cabernet Franc', 'Valdiguié', 'Mazuelo',\n",
       "       'Brachetto', 'Jacquez', 'Moscofilero', 'Chardonnay-Sauvignon',\n",
       "       'Madeleine Angevine', 'Ruché', 'Merlot-Petite Verdot',\n",
       "       'Roussanne-Marsanne', 'Moscatel de Alejandría',\n",
       "       'Muscat Blanc à Petit Grain', 'Sämling', 'Mtsvane', 'Zlahtina',\n",
       "       'Zelen', 'Doña Blanca', 'Carmenère-Syrah',\n",
       "       'Roussanne-Grenache Blanc', 'Kinali Yapincak', 'Robola',\n",
       "       'Pinot Blanc-Chardonnay', 'Chardonnay-Pinot Blanc',\n",
       "       'Saperavi-Merlot', 'Malvasia Istriana', 'Torontel', 'Picapoll',\n",
       "       'Zierfandler-Rotgipfler', 'Malvasia Fina', 'Chinuri', 'Muscatel',\n",
       "       'Sousão', 'Silvaner-Traminer', 'Syrah-Carignan', 'Bukettraube',\n",
       "       'Muskat', 'Argaman', 'Provence white blend', 'Touriga Franca',\n",
       "       'Morillon', 'Carignan-Syrah', 'Aidani', 'Viognier-Grenache Blanc',\n",
       "       'Albarossa', 'Sauvignon Blanc-Verdejo', 'Grenache-Mourvèdre',\n",
       "       'Tannat-Syrah', 'Seyval Blanc', 'Tocai Rosso', 'Pinot-Chardonnay',\n",
       "       'Moscatel Graúdo', 'Pigato', 'Siegerrebe', 'Bombino Bianco',\n",
       "       'Trebbiano-Malvasia', 'Magliocco', 'Verduzzo Friulano ',\n",
       "       'Vespaiolo', 'Marzemino', 'Tempranillo-Malbec', 'Crespiello',\n",
       "       'Cabernet Franc-Tempranillo', 'Gouveio', 'Caprettone',\n",
       "       'Garnacha-Graciano', 'Mataro', \"Pineau d'Aunis\", 'Bual', 'Sercial',\n",
       "       'Moscato di Noto', 'Sauvignonasse', 'Madeira Blend', 'St. George',\n",
       "       'Rebula', 'Pallagrello Bianco', 'Vilana', 'Pelaverga Piccolo',\n",
       "       'Syrah-Grenache-Viognier', 'Alvarelhão', 'Durif', 'Angevine',\n",
       "       'Semillon-Chardonnay', 'Pinot Blanc-Pinot Noir', 'Manzoni',\n",
       "       'Maréchal Foch', 'Blauer Portugieser', 'Tocai', 'Shiraz-Malbec',\n",
       "       'Cabernet Moravia', 'Espadeiro', 'País', 'Altesse', 'Avesso',\n",
       "       'Grignolino', 'Mandilaria', 'Freisa', 'Merlot-Shiraz', 'Dafni',\n",
       "       'Xynisteri', 'Grechetto', 'Roscetto', 'Sideritis',\n",
       "       'Pinotage-Merlot', 'Asprinio', 'Grolleau', 'Gragnano', 'Ansonica',\n",
       "       'Sangiovese Cabernet', 'Tinta Barroca', 'Syrah-Bonarda',\n",
       "       'Marsanne-Viognier', 'Azal', 'Durello', 'Syrah-Malbec',\n",
       "       'Malbec-Cabernet Franc', 'Franconia', 'Rufete', 'Parraleta',\n",
       "       'St. Vincent', 'Groppello', 'Athiri', 'Muscat of Alexandria',\n",
       "       'Malvoisie', 'Colorino', 'Merlot-Grenache', 'Terret Blanc',\n",
       "       'Chardonel', 'Macabeo-Gewürztraminer', 'Grenache Gris', 'Rabigato',\n",
       "       'Muscat Hamburg', 'Sarba', 'Irsai Oliver', 'Chardonnay-Pinot Gris',\n",
       "       'Vermentino Nero', 'Pardina', 'Apple', 'Clairette',\n",
       "       'Sauvignon Musqué', 'Shiraz-Merlot', 'Viognier-Valdiguié',\n",
       "       'Chardonelle', 'Malmsey', 'Tinta Negra Mole',\n",
       "       'Pinot Grigio-Chardonnay', 'Muscadet', 'Viura-Sauvignon Blanc',\n",
       "       'Huxelrebe', 'Tokay Pinot Gris', 'Chardonnay-Pinot Grigio',\n",
       "       'Moristel', 'Carnelian'], dtype=object)"
      ]
     },
     "execution_count": 181,
     "metadata": {},
     "output_type": "execute_result"
    }
   ],
   "source": [
    "data['variety'].unique()"
   ]
  },
  {
   "cell_type": "markdown",
   "metadata": {},
   "source": [
    "Выполним кодирование:"
   ]
  },
  {
   "cell_type": "code",
   "execution_count": 186,
   "metadata": {},
   "outputs": [],
   "source": [
    "ohe = OneHotEncoder()\n",
    "variety_enc = ohe.fit_transform(data[['variety']])"
   ]
  },
  {
   "cell_type": "code",
   "execution_count": 187,
   "metadata": {},
   "outputs": [
    {
     "data": {
      "text/plain": [
       "(150925, 632)"
      ]
     },
     "execution_count": 187,
     "metadata": {},
     "output_type": "execute_result"
    }
   ],
   "source": [
    "variety_enc.shape"
   ]
  },
  {
   "cell_type": "code",
   "execution_count": 188,
   "metadata": {},
   "outputs": [
    {
     "data": {
      "text/plain": [
       "matrix([[0., 0., 0., ..., 0., 0., 0.],\n",
       "        [0., 0., 0., ..., 0., 0., 0.],\n",
       "        [0., 0., 0., ..., 0., 0., 0.],\n",
       "        ...,\n",
       "        [0., 0., 0., ..., 0., 0., 0.],\n",
       "        [0., 0., 0., ..., 0., 0., 0.],\n",
       "        [0., 0., 0., ..., 0., 0., 0.]])"
      ]
     },
     "execution_count": 188,
     "metadata": {},
     "output_type": "execute_result"
    }
   ],
   "source": [
    "variety_enc.todense()[0:10]"
   ]
  },
  {
   "cell_type": "code",
   "execution_count": 190,
   "metadata": {},
   "outputs": [
    {
     "data": {
      "text/plain": [
       "0    Cabernet Sauvignon\n",
       "1         Tinta de Toro\n",
       "2       Sauvignon Blanc\n",
       "3            Pinot Noir\n",
       "4    Provence red blend\n",
       "5         Tinta de Toro\n",
       "6         Tinta de Toro\n",
       "7         Tinta de Toro\n",
       "8            Pinot Noir\n",
       "9            Pinot Noir\n",
       "Name: variety, dtype: object"
      ]
     },
     "execution_count": 190,
     "metadata": {},
     "output_type": "execute_result"
    }
   ],
   "source": [
    "data['variety'].head(10)"
   ]
  },
  {
   "cell_type": "markdown",
   "metadata": {},
   "source": [
    "#### 2.3 Pandas get_dummies"
   ]
  },
  {
   "cell_type": "markdown",
   "metadata": {},
   "source": [
    "Выберем категориальный признак country:"
   ]
  },
  {
   "cell_type": "code",
   "execution_count": 199,
   "metadata": {
    "scrolled": true
   },
   "outputs": [
    {
     "data": {
      "text/html": [
       "<div>\n",
       "<style scoped>\n",
       "    .dataframe tbody tr th:only-of-type {\n",
       "        vertical-align: middle;\n",
       "    }\n",
       "\n",
       "    .dataframe tbody tr th {\n",
       "        vertical-align: top;\n",
       "    }\n",
       "\n",
       "    .dataframe thead th {\n",
       "        text-align: right;\n",
       "    }\n",
       "</style>\n",
       "<table border=\"1\" class=\"dataframe\">\n",
       "  <thead>\n",
       "    <tr style=\"text-align: right;\">\n",
       "      <th></th>\n",
       "      <th>Albania</th>\n",
       "      <th>Argentina</th>\n",
       "      <th>Australia</th>\n",
       "      <th>Austria</th>\n",
       "      <th>Bosnia and Herzegovina</th>\n",
       "      <th>Brazil</th>\n",
       "      <th>Bulgaria</th>\n",
       "      <th>Canada</th>\n",
       "      <th>Chile</th>\n",
       "      <th>China</th>\n",
       "      <th>...</th>\n",
       "      <th>South Africa</th>\n",
       "      <th>South Korea</th>\n",
       "      <th>Spain</th>\n",
       "      <th>Switzerland</th>\n",
       "      <th>Tunisia</th>\n",
       "      <th>Turkey</th>\n",
       "      <th>US</th>\n",
       "      <th>US-France</th>\n",
       "      <th>Ukraine</th>\n",
       "      <th>Uruguay</th>\n",
       "    </tr>\n",
       "  </thead>\n",
       "  <tbody>\n",
       "    <tr>\n",
       "      <th>0</th>\n",
       "      <td>0</td>\n",
       "      <td>0</td>\n",
       "      <td>0</td>\n",
       "      <td>0</td>\n",
       "      <td>0</td>\n",
       "      <td>0</td>\n",
       "      <td>0</td>\n",
       "      <td>0</td>\n",
       "      <td>0</td>\n",
       "      <td>0</td>\n",
       "      <td>...</td>\n",
       "      <td>0</td>\n",
       "      <td>0</td>\n",
       "      <td>0</td>\n",
       "      <td>0</td>\n",
       "      <td>0</td>\n",
       "      <td>0</td>\n",
       "      <td>1</td>\n",
       "      <td>0</td>\n",
       "      <td>0</td>\n",
       "      <td>0</td>\n",
       "    </tr>\n",
       "    <tr>\n",
       "      <th>1</th>\n",
       "      <td>0</td>\n",
       "      <td>0</td>\n",
       "      <td>0</td>\n",
       "      <td>0</td>\n",
       "      <td>0</td>\n",
       "      <td>0</td>\n",
       "      <td>0</td>\n",
       "      <td>0</td>\n",
       "      <td>0</td>\n",
       "      <td>0</td>\n",
       "      <td>...</td>\n",
       "      <td>0</td>\n",
       "      <td>0</td>\n",
       "      <td>1</td>\n",
       "      <td>0</td>\n",
       "      <td>0</td>\n",
       "      <td>0</td>\n",
       "      <td>0</td>\n",
       "      <td>0</td>\n",
       "      <td>0</td>\n",
       "      <td>0</td>\n",
       "    </tr>\n",
       "    <tr>\n",
       "      <th>2</th>\n",
       "      <td>0</td>\n",
       "      <td>0</td>\n",
       "      <td>0</td>\n",
       "      <td>0</td>\n",
       "      <td>0</td>\n",
       "      <td>0</td>\n",
       "      <td>0</td>\n",
       "      <td>0</td>\n",
       "      <td>0</td>\n",
       "      <td>0</td>\n",
       "      <td>...</td>\n",
       "      <td>0</td>\n",
       "      <td>0</td>\n",
       "      <td>0</td>\n",
       "      <td>0</td>\n",
       "      <td>0</td>\n",
       "      <td>0</td>\n",
       "      <td>1</td>\n",
       "      <td>0</td>\n",
       "      <td>0</td>\n",
       "      <td>0</td>\n",
       "    </tr>\n",
       "    <tr>\n",
       "      <th>3</th>\n",
       "      <td>0</td>\n",
       "      <td>0</td>\n",
       "      <td>0</td>\n",
       "      <td>0</td>\n",
       "      <td>0</td>\n",
       "      <td>0</td>\n",
       "      <td>0</td>\n",
       "      <td>0</td>\n",
       "      <td>0</td>\n",
       "      <td>0</td>\n",
       "      <td>...</td>\n",
       "      <td>0</td>\n",
       "      <td>0</td>\n",
       "      <td>0</td>\n",
       "      <td>0</td>\n",
       "      <td>0</td>\n",
       "      <td>0</td>\n",
       "      <td>1</td>\n",
       "      <td>0</td>\n",
       "      <td>0</td>\n",
       "      <td>0</td>\n",
       "    </tr>\n",
       "    <tr>\n",
       "      <th>4</th>\n",
       "      <td>0</td>\n",
       "      <td>0</td>\n",
       "      <td>0</td>\n",
       "      <td>0</td>\n",
       "      <td>0</td>\n",
       "      <td>0</td>\n",
       "      <td>0</td>\n",
       "      <td>0</td>\n",
       "      <td>0</td>\n",
       "      <td>0</td>\n",
       "      <td>...</td>\n",
       "      <td>0</td>\n",
       "      <td>0</td>\n",
       "      <td>0</td>\n",
       "      <td>0</td>\n",
       "      <td>0</td>\n",
       "      <td>0</td>\n",
       "      <td>0</td>\n",
       "      <td>0</td>\n",
       "      <td>0</td>\n",
       "      <td>0</td>\n",
       "    </tr>\n",
       "  </tbody>\n",
       "</table>\n",
       "<p>5 rows × 48 columns</p>\n",
       "</div>"
      ],
      "text/plain": [
       "   Albania  Argentina  Australia  Austria  Bosnia and Herzegovina  Brazil  \\\n",
       "0        0          0          0        0                       0       0   \n",
       "1        0          0          0        0                       0       0   \n",
       "2        0          0          0        0                       0       0   \n",
       "3        0          0          0        0                       0       0   \n",
       "4        0          0          0        0                       0       0   \n",
       "\n",
       "   Bulgaria  Canada  Chile  China  ...  South Africa  South Korea  Spain  \\\n",
       "0         0       0      0      0  ...             0            0      0   \n",
       "1         0       0      0      0  ...             0            0      1   \n",
       "2         0       0      0      0  ...             0            0      0   \n",
       "3         0       0      0      0  ...             0            0      0   \n",
       "4         0       0      0      0  ...             0            0      0   \n",
       "\n",
       "   Switzerland  Tunisia  Turkey  US  US-France  Ukraine  Uruguay  \n",
       "0            0        0       0   1          0        0        0  \n",
       "1            0        0       0   0          0        0        0  \n",
       "2            0        0       0   1          0        0        0  \n",
       "3            0        0       0   1          0        0        0  \n",
       "4            0        0       0   0          0        0        0  \n",
       "\n",
       "[5 rows x 48 columns]"
      ]
     },
     "execution_count": 199,
     "metadata": {},
     "output_type": "execute_result"
    }
   ],
   "source": [
    "pd.get_dummies(data['country']).head()"
   ]
  },
  {
   "cell_type": "code",
   "execution_count": 201,
   "metadata": {},
   "outputs": [
    {
     "data": {
      "text/html": [
       "<div>\n",
       "<style scoped>\n",
       "    .dataframe tbody tr th:only-of-type {\n",
       "        vertical-align: middle;\n",
       "    }\n",
       "\n",
       "    .dataframe tbody tr th {\n",
       "        vertical-align: top;\n",
       "    }\n",
       "\n",
       "    .dataframe thead th {\n",
       "        text-align: right;\n",
       "    }\n",
       "</style>\n",
       "<table border=\"1\" class=\"dataframe\">\n",
       "  <thead>\n",
       "    <tr style=\"text-align: right;\">\n",
       "      <th></th>\n",
       "      <th>Albania</th>\n",
       "      <th>Argentina</th>\n",
       "      <th>Australia</th>\n",
       "      <th>Austria</th>\n",
       "      <th>Bosnia and Herzegovina</th>\n",
       "      <th>Brazil</th>\n",
       "      <th>Bulgaria</th>\n",
       "      <th>Canada</th>\n",
       "      <th>Chile</th>\n",
       "      <th>China</th>\n",
       "      <th>...</th>\n",
       "      <th>South Korea</th>\n",
       "      <th>Spain</th>\n",
       "      <th>Switzerland</th>\n",
       "      <th>Tunisia</th>\n",
       "      <th>Turkey</th>\n",
       "      <th>US</th>\n",
       "      <th>US-France</th>\n",
       "      <th>Ukraine</th>\n",
       "      <th>Uruguay</th>\n",
       "      <th>NaN</th>\n",
       "    </tr>\n",
       "  </thead>\n",
       "  <tbody>\n",
       "    <tr>\n",
       "      <th>0</th>\n",
       "      <td>0</td>\n",
       "      <td>0</td>\n",
       "      <td>0</td>\n",
       "      <td>0</td>\n",
       "      <td>0</td>\n",
       "      <td>0</td>\n",
       "      <td>0</td>\n",
       "      <td>0</td>\n",
       "      <td>0</td>\n",
       "      <td>0</td>\n",
       "      <td>...</td>\n",
       "      <td>0</td>\n",
       "      <td>0</td>\n",
       "      <td>0</td>\n",
       "      <td>0</td>\n",
       "      <td>0</td>\n",
       "      <td>1</td>\n",
       "      <td>0</td>\n",
       "      <td>0</td>\n",
       "      <td>0</td>\n",
       "      <td>0</td>\n",
       "    </tr>\n",
       "    <tr>\n",
       "      <th>1</th>\n",
       "      <td>0</td>\n",
       "      <td>0</td>\n",
       "      <td>0</td>\n",
       "      <td>0</td>\n",
       "      <td>0</td>\n",
       "      <td>0</td>\n",
       "      <td>0</td>\n",
       "      <td>0</td>\n",
       "      <td>0</td>\n",
       "      <td>0</td>\n",
       "      <td>...</td>\n",
       "      <td>0</td>\n",
       "      <td>1</td>\n",
       "      <td>0</td>\n",
       "      <td>0</td>\n",
       "      <td>0</td>\n",
       "      <td>0</td>\n",
       "      <td>0</td>\n",
       "      <td>0</td>\n",
       "      <td>0</td>\n",
       "      <td>0</td>\n",
       "    </tr>\n",
       "    <tr>\n",
       "      <th>2</th>\n",
       "      <td>0</td>\n",
       "      <td>0</td>\n",
       "      <td>0</td>\n",
       "      <td>0</td>\n",
       "      <td>0</td>\n",
       "      <td>0</td>\n",
       "      <td>0</td>\n",
       "      <td>0</td>\n",
       "      <td>0</td>\n",
       "      <td>0</td>\n",
       "      <td>...</td>\n",
       "      <td>0</td>\n",
       "      <td>0</td>\n",
       "      <td>0</td>\n",
       "      <td>0</td>\n",
       "      <td>0</td>\n",
       "      <td>1</td>\n",
       "      <td>0</td>\n",
       "      <td>0</td>\n",
       "      <td>0</td>\n",
       "      <td>0</td>\n",
       "    </tr>\n",
       "    <tr>\n",
       "      <th>3</th>\n",
       "      <td>0</td>\n",
       "      <td>0</td>\n",
       "      <td>0</td>\n",
       "      <td>0</td>\n",
       "      <td>0</td>\n",
       "      <td>0</td>\n",
       "      <td>0</td>\n",
       "      <td>0</td>\n",
       "      <td>0</td>\n",
       "      <td>0</td>\n",
       "      <td>...</td>\n",
       "      <td>0</td>\n",
       "      <td>0</td>\n",
       "      <td>0</td>\n",
       "      <td>0</td>\n",
       "      <td>0</td>\n",
       "      <td>1</td>\n",
       "      <td>0</td>\n",
       "      <td>0</td>\n",
       "      <td>0</td>\n",
       "      <td>0</td>\n",
       "    </tr>\n",
       "    <tr>\n",
       "      <th>4</th>\n",
       "      <td>0</td>\n",
       "      <td>0</td>\n",
       "      <td>0</td>\n",
       "      <td>0</td>\n",
       "      <td>0</td>\n",
       "      <td>0</td>\n",
       "      <td>0</td>\n",
       "      <td>0</td>\n",
       "      <td>0</td>\n",
       "      <td>0</td>\n",
       "      <td>...</td>\n",
       "      <td>0</td>\n",
       "      <td>0</td>\n",
       "      <td>0</td>\n",
       "      <td>0</td>\n",
       "      <td>0</td>\n",
       "      <td>0</td>\n",
       "      <td>0</td>\n",
       "      <td>0</td>\n",
       "      <td>0</td>\n",
       "      <td>0</td>\n",
       "    </tr>\n",
       "  </tbody>\n",
       "</table>\n",
       "<p>5 rows × 49 columns</p>\n",
       "</div>"
      ],
      "text/plain": [
       "   Albania  Argentina  Australia  Austria  Bosnia and Herzegovina  Brazil  \\\n",
       "0        0          0          0        0                       0       0   \n",
       "1        0          0          0        0                       0       0   \n",
       "2        0          0          0        0                       0       0   \n",
       "3        0          0          0        0                       0       0   \n",
       "4        0          0          0        0                       0       0   \n",
       "\n",
       "   Bulgaria  Canada  Chile  China  ...  South Korea  Spain  Switzerland  \\\n",
       "0         0       0      0      0  ...            0      0            0   \n",
       "1         0       0      0      0  ...            0      1            0   \n",
       "2         0       0      0      0  ...            0      0            0   \n",
       "3         0       0      0      0  ...            0      0            0   \n",
       "4         0       0      0      0  ...            0      0            0   \n",
       "\n",
       "   Tunisia  Turkey  US  US-France  Ukraine  Uruguay  NaN  \n",
       "0        0       0   1          0        0        0    0  \n",
       "1        0       0   0          0        0        0    0  \n",
       "2        0       0   1          0        0        0    0  \n",
       "3        0       0   1          0        0        0    0  \n",
       "4        0       0   0          0        0        0    0  \n",
       "\n",
       "[5 rows x 49 columns]"
      ]
     },
     "execution_count": 201,
     "metadata": {},
     "output_type": "execute_result"
    }
   ],
   "source": [
    "pd.get_dummies(data['country'], dummy_na=True).head()"
   ]
  },
  {
   "cell_type": "markdown",
   "metadata": {},
   "source": [
    "### 3. Масштабирование данных"
   ]
  },
  {
   "cell_type": "markdown",
   "metadata": {},
   "source": [
    "Выберем количественный признак points:"
   ]
  },
  {
   "cell_type": "code",
   "execution_count": 203,
   "metadata": {
    "scrolled": true
   },
   "outputs": [
    {
     "data": {
      "text/plain": [
       "<matplotlib.axes._subplots.AxesSubplot at 0x1b3eb9630>"
      ]
     },
     "execution_count": 203,
     "metadata": {},
     "output_type": "execute_result"
    },
    {
     "data": {
      "image/png": "[encoded data removed]",
      "text/plain": [
       "<Figure size 432x288 with 1 Axes>"
      ]
     },
     "metadata": {},
     "output_type": "display_data"
    }
   ],
   "source": [
    "data['points'].plot.hist()"
   ]
  },
  {
   "cell_type": "markdown",
   "metadata": {},
   "source": [
    "#### 3.1 MinMax масштабирование"
   ]
  },
  {
   "cell_type": "markdown",
   "metadata": {},
   "source": [
    "Выполним масштабирование:"
   ]
  },
  {
   "cell_type": "code",
   "execution_count": 206,
   "metadata": {},
   "outputs": [],
   "source": [
    "sc1 = MinMaxScaler()\n",
    "data['points'] = sc1.fit_transform(data[['points']])"
   ]
  },
  {
   "cell_type": "markdown",
   "metadata": {},
   "source": [
    "Проверим результат:"
   ]
  },
  {
   "cell_type": "code",
   "execution_count": 207,
   "metadata": {},
   "outputs": [
    {
     "data": {
      "text/plain": [
       "<matplotlib.axes._subplots.AxesSubplot at 0x14fd2e7f0>"
      ]
     },
     "execution_count": 207,
     "metadata": {},
     "output_type": "execute_result"
    },
    {
     "data": {
      "image/png": "[encoded data removed]",
      "text/plain": [
       "<Figure size 432x288 with 1 Axes>"
      ]
     },
     "metadata": {},
     "output_type": "display_data"
    }
   ],
   "source": [
    "data['points'].plot.hist()"
   ]
  },
  {
   "cell_type": "markdown",
   "metadata": {},
   "source": [
    "#### 3.2 Масштабирование данных на основе Z-оценки"
   ]
  },
  {
   "cell_type": "markdown",
   "metadata": {},
   "source": [
    "Выполним масштабирование:"
   ]
  },
  {
   "cell_type": "code",
   "execution_count": 212,
   "metadata": {},
   "outputs": [],
   "source": [
    "sc2 = StandardScaler()\n",
    "data['points_Z'] = sc2.fit_transform(data[['points']])"
   ]
  },
  {
   "cell_type": "markdown",
   "metadata": {},
   "source": [
    "Проверим результат:"
   ]
  },
  {
   "cell_type": "code",
   "execution_count": 213,
   "metadata": {
    "scrolled": true
   },
   "outputs": [
    {
     "data": {
      "text/plain": [
       "<matplotlib.axes._subplots.AxesSubplot at 0x1b9323ef0>"
      ]
     },
     "execution_count": 213,
     "metadata": {},
     "output_type": "execute_result"
    },
    {
     "data": {
      "image/png": "[encoded data removed]",
      "text/plain": [
       "<Figure size 432x288 with 1 Axes>"
      ]
     },
     "metadata": {},
     "output_type": "display_data"
    }
   ],
   "source": [
    "data['points_Z'].plot.hist()"
   ]
  },
  {
   "cell_type": "markdown",
   "metadata": {},
   "source": [
    "#### 3.3 Нормализация данных"
   ]
  },
  {
   "cell_type": "markdown",
   "metadata": {},
   "source": [
    "Выполним нормализацию:"
   ]
  },
  {
   "cell_type": "code",
   "execution_count": 214,
   "metadata": {},
   "outputs": [],
   "source": [
    "sc3 = Normalizer()\n",
    "data['points_N'] = sc3.fit_transform(data[['points_Z']])"
   ]
  },
  {
   "cell_type": "markdown",
   "metadata": {},
   "source": [
    "Проверим результат:"
   ]
  },
  {
   "cell_type": "code",
   "execution_count": 215,
   "metadata": {},
   "outputs": [
    {
     "data": {
      "text/plain": [
       "<matplotlib.axes._subplots.AxesSubplot at 0x15123fcc0>"
      ]
     },
     "execution_count": 215,
     "metadata": {},
     "output_type": "execute_result"
    },
    {
     "data": {
      "image/png": "[encoded data removed]",
      "text/plain": [
       "<Figure size 432x288 with 1 Axes>"
      ]
     },
     "metadata": {},
     "output_type": "display_data"
    }
   ],
   "source": [
    "data['points_N'].plot.hist()"
   ]
  }
 ],
 "metadata": {
  "kernelspec": {
   "display_name": "Python 3",
   "language": "python",
   "name": "python3"
  },
  "language_info": {
   "codemirror_mode": {
    "name": "ipython",
    "version": 3
   },
   "file_extension": ".py",
   "mimetype": "text/x-python",
   "name": "python",
   "nbconvert_exporter": "python",
   "pygments_lexer": "ipython3",
   "version": "3.7.0"
  }
 },
 "nbformat": 4,
 "nbformat_minor": 4
}
