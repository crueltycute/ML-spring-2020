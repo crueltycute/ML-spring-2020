{
 "cells": [
  {
   "cell_type": "code",
   "execution_count": 25,
   "metadata": {},
   "outputs": [],
   "source": [
    "import pandas as pd\n",
    "import numpy as np\n",
    "import seaborn as sns\n",
    "from sklearn.preprocessing import LabelEncoder\n",
    "from sklearn.model_selection import train_test_split\n",
    "from sklearn.metrics import f1_score, precision_score\n",
    "from sklearn.linear_model import LogisticRegression\n",
    "import matplotlib.pyplot as plt\n",
    "from sklearn.naive_bayes import MultinomialNB, ComplementNB, BernoulliNB\n",
    "from sklearn.metrics import accuracy_score\n",
    "from sklearn.svm import LinearSVC\n",
    "from sklearn.feature_extraction.text import TfidfVectorizer\n",
    "\n",
    "%matplotlib inline \n",
    "sns.set(style=\"ticks\")"
   ]
  },
  {
   "cell_type": "code",
   "execution_count": 3,
   "metadata": {
    "scrolled": false
   },
   "outputs": [
    {
     "data": {
      "text/html": [
       "<div>\n",
       "<style scoped>\n",
       "    .dataframe tbody tr th:only-of-type {\n",
       "        vertical-align: middle;\n",
       "    }\n",
       "\n",
       "    .dataframe tbody tr th {\n",
       "        vertical-align: top;\n",
       "    }\n",
       "\n",
       "    .dataframe thead th {\n",
       "        text-align: right;\n",
       "    }\n",
       "</style>\n",
       "<table border=\"1\" class=\"dataframe\">\n",
       "  <thead>\n",
       "    <tr style=\"text-align: right;\">\n",
       "      <th></th>\n",
       "      <th>Season</th>\n",
       "      <th>Episode</th>\n",
       "      <th>Character</th>\n",
       "      <th>Line</th>\n",
       "    </tr>\n",
       "  </thead>\n",
       "  <tbody>\n",
       "    <tr>\n",
       "      <th>0</th>\n",
       "      <td>10</td>\n",
       "      <td>1</td>\n",
       "      <td>Stan</td>\n",
       "      <td>You guys, you guys! Chef is going away. \\n</td>\n",
       "    </tr>\n",
       "    <tr>\n",
       "      <th>1</th>\n",
       "      <td>10</td>\n",
       "      <td>1</td>\n",
       "      <td>Kyle</td>\n",
       "      <td>Going away? For how long?\\n</td>\n",
       "    </tr>\n",
       "    <tr>\n",
       "      <th>2</th>\n",
       "      <td>10</td>\n",
       "      <td>1</td>\n",
       "      <td>Stan</td>\n",
       "      <td>Forever.\\n</td>\n",
       "    </tr>\n",
       "    <tr>\n",
       "      <th>3</th>\n",
       "      <td>10</td>\n",
       "      <td>1</td>\n",
       "      <td>Chef</td>\n",
       "      <td>I'm sorry boys.\\n</td>\n",
       "    </tr>\n",
       "    <tr>\n",
       "      <th>4</th>\n",
       "      <td>10</td>\n",
       "      <td>1</td>\n",
       "      <td>Stan</td>\n",
       "      <td>Chef said he's been bored, so he joining a gro...</td>\n",
       "    </tr>\n",
       "    <tr>\n",
       "      <th>...</th>\n",
       "      <td>...</td>\n",
       "      <td>...</td>\n",
       "      <td>...</td>\n",
       "      <td>...</td>\n",
       "    </tr>\n",
       "    <tr>\n",
       "      <th>70891</th>\n",
       "      <td>9</td>\n",
       "      <td>14</td>\n",
       "      <td>Stan</td>\n",
       "      <td>I think you're pushing it.\\n</td>\n",
       "    </tr>\n",
       "    <tr>\n",
       "      <th>70892</th>\n",
       "      <td>9</td>\n",
       "      <td>14</td>\n",
       "      <td>Randy</td>\n",
       "      <td>How about twenty?\\n</td>\n",
       "    </tr>\n",
       "    <tr>\n",
       "      <th>70893</th>\n",
       "      <td>9</td>\n",
       "      <td>14</td>\n",
       "      <td>Stan</td>\n",
       "      <td>That's not disciprine.\\n</td>\n",
       "    </tr>\n",
       "    <tr>\n",
       "      <th>70894</th>\n",
       "      <td>9</td>\n",
       "      <td>14</td>\n",
       "      <td>Randy</td>\n",
       "      <td>Right right. Does vodka count?\\n</td>\n",
       "    </tr>\n",
       "    <tr>\n",
       "      <th>70895</th>\n",
       "      <td>9</td>\n",
       "      <td>14</td>\n",
       "      <td>Stan</td>\n",
       "      <td>Dad!\\n</td>\n",
       "    </tr>\n",
       "  </tbody>\n",
       "</table>\n",
       "<p>70896 rows × 4 columns</p>\n",
       "</div>"
      ],
      "text/plain": [
       "      Season Episode Character  \\\n",
       "0         10       1      Stan   \n",
       "1         10       1      Kyle   \n",
       "2         10       1      Stan   \n",
       "3         10       1      Chef   \n",
       "4         10       1      Stan   \n",
       "...      ...     ...       ...   \n",
       "70891      9      14      Stan   \n",
       "70892      9      14     Randy   \n",
       "70893      9      14      Stan   \n",
       "70894      9      14     Randy   \n",
       "70895      9      14      Stan   \n",
       "\n",
       "                                                    Line  \n",
       "0             You guys, you guys! Chef is going away. \\n  \n",
       "1                            Going away? For how long?\\n  \n",
       "2                                             Forever.\\n  \n",
       "3                                      I'm sorry boys.\\n  \n",
       "4      Chef said he's been bored, so he joining a gro...  \n",
       "...                                                  ...  \n",
       "70891                       I think you're pushing it.\\n  \n",
       "70892                                How about twenty?\\n  \n",
       "70893                           That's not disciprine.\\n  \n",
       "70894                   Right right. Does vodka count?\\n  \n",
       "70895                                             Dad!\\n  \n",
       "\n",
       "[70896 rows x 4 columns]"
      ]
     },
     "execution_count": 3,
     "metadata": {},
     "output_type": "execute_result"
    }
   ],
   "source": [
    "data = pd.read_csv('../data/south-park.csv')\n",
    "data"
   ]
  },
  {
   "cell_type": "code",
   "execution_count": 4,
   "metadata": {},
   "outputs": [],
   "source": [
    "data = data.drop(columns = ['Season', 'Episode'])"
   ]
  },
  {
   "cell_type": "code",
   "execution_count": 5,
   "metadata": {},
   "outputs": [
    {
     "data": {
      "text/plain": [
       "Cartman             9774\n",
       "Stan                7680\n",
       "Kyle                7099\n",
       "Butters             2602\n",
       "Randy               2467\n",
       "                    ... \n",
       "Some KKK members       1\n",
       "Reveler 4              1\n",
       "Louse 3                1\n",
       "Paparazzo 10           1\n",
       "Volunteer 4            1\n",
       "Name: Character, Length: 3950, dtype: int64"
      ]
     },
     "execution_count": 5,
     "metadata": {},
     "output_type": "execute_result"
    }
   ],
   "source": [
    "data['Character'].value_counts()"
   ]
  },
  {
   "cell_type": "code",
   "execution_count": 6,
   "metadata": {},
   "outputs": [
    {
     "data": {
      "text/html": [
       "<div>\n",
       "<style scoped>\n",
       "    .dataframe tbody tr th:only-of-type {\n",
       "        vertical-align: middle;\n",
       "    }\n",
       "\n",
       "    .dataframe tbody tr th {\n",
       "        vertical-align: top;\n",
       "    }\n",
       "\n",
       "    .dataframe thead th {\n",
       "        text-align: right;\n",
       "    }\n",
       "</style>\n",
       "<table border=\"1\" class=\"dataframe\">\n",
       "  <thead>\n",
       "    <tr style=\"text-align: right;\">\n",
       "      <th></th>\n",
       "      <th>Character</th>\n",
       "      <th>Line</th>\n",
       "    </tr>\n",
       "  </thead>\n",
       "  <tbody>\n",
       "    <tr>\n",
       "      <th>0</th>\n",
       "      <td>Stan</td>\n",
       "      <td>You guys, you guys! Chef is going away. \\n</td>\n",
       "    </tr>\n",
       "    <tr>\n",
       "      <th>1</th>\n",
       "      <td>Kyle</td>\n",
       "      <td>Going away? For how long?\\n</td>\n",
       "    </tr>\n",
       "    <tr>\n",
       "      <th>2</th>\n",
       "      <td>Stan</td>\n",
       "      <td>Forever.\\n</td>\n",
       "    </tr>\n",
       "    <tr>\n",
       "      <th>4</th>\n",
       "      <td>Stan</td>\n",
       "      <td>Chef said he's been bored, so he joining a gro...</td>\n",
       "    </tr>\n",
       "    <tr>\n",
       "      <th>9</th>\n",
       "      <td>Cartman</td>\n",
       "      <td>I'm gonna miss him.  I'm gonna miss Chef and I...</td>\n",
       "    </tr>\n",
       "    <tr>\n",
       "      <th>...</th>\n",
       "      <td>...</td>\n",
       "      <td>...</td>\n",
       "    </tr>\n",
       "    <tr>\n",
       "      <th>70891</th>\n",
       "      <td>Stan</td>\n",
       "      <td>I think you're pushing it.\\n</td>\n",
       "    </tr>\n",
       "    <tr>\n",
       "      <th>70892</th>\n",
       "      <td>Randy</td>\n",
       "      <td>How about twenty?\\n</td>\n",
       "    </tr>\n",
       "    <tr>\n",
       "      <th>70893</th>\n",
       "      <td>Stan</td>\n",
       "      <td>That's not disciprine.\\n</td>\n",
       "    </tr>\n",
       "    <tr>\n",
       "      <th>70894</th>\n",
       "      <td>Randy</td>\n",
       "      <td>Right right. Does vodka count?\\n</td>\n",
       "    </tr>\n",
       "    <tr>\n",
       "      <th>70895</th>\n",
       "      <td>Stan</td>\n",
       "      <td>Dad!\\n</td>\n",
       "    </tr>\n",
       "  </tbody>\n",
       "</table>\n",
       "<p>29622 rows × 2 columns</p>\n",
       "</div>"
      ],
      "text/plain": [
       "      Character                                               Line\n",
       "0          Stan         You guys, you guys! Chef is going away. \\n\n",
       "1          Kyle                        Going away? For how long?\\n\n",
       "2          Stan                                         Forever.\\n\n",
       "4          Stan  Chef said he's been bored, so he joining a gro...\n",
       "9       Cartman  I'm gonna miss him.  I'm gonna miss Chef and I...\n",
       "...         ...                                                ...\n",
       "70891      Stan                       I think you're pushing it.\\n\n",
       "70892     Randy                                How about twenty?\\n\n",
       "70893      Stan                           That's not disciprine.\\n\n",
       "70894     Randy                   Right right. Does vodka count?\\n\n",
       "70895      Stan                                             Dad!\\n\n",
       "\n",
       "[29622 rows x 2 columns]"
      ]
     },
     "execution_count": 6,
     "metadata": {},
     "output_type": "execute_result"
    }
   ],
   "source": [
    "data = data[data['Character'].isin(['Cartman', 'Stan', 'Kyle', 'Randy', 'Butters'])]\n",
    "data"
   ]
  },
  {
   "cell_type": "markdown",
   "metadata": {},
   "source": [
    "Разделим выборку на обучающую и тестовую:"
   ]
  },
  {
   "cell_type": "code",
   "execution_count": 7,
   "metadata": {},
   "outputs": [],
   "source": [
    "X = data.drop('Character', axis=1)\n",
    "Y = data['Character']"
   ]
  },
  {
   "cell_type": "code",
   "execution_count": 8,
   "metadata": {},
   "outputs": [
    {
     "data": {
      "text/html": [
       "<div>\n",
       "<style scoped>\n",
       "    .dataframe tbody tr th:only-of-type {\n",
       "        vertical-align: middle;\n",
       "    }\n",
       "\n",
       "    .dataframe tbody tr th {\n",
       "        vertical-align: top;\n",
       "    }\n",
       "\n",
       "    .dataframe thead th {\n",
       "        text-align: right;\n",
       "    }\n",
       "</style>\n",
       "<table border=\"1\" class=\"dataframe\">\n",
       "  <thead>\n",
       "    <tr style=\"text-align: right;\">\n",
       "      <th></th>\n",
       "      <th>Line</th>\n",
       "    </tr>\n",
       "  </thead>\n",
       "  <tbody>\n",
       "    <tr>\n",
       "      <th>0</th>\n",
       "      <td>You guys, you guys! Chef is going away. \\n</td>\n",
       "    </tr>\n",
       "    <tr>\n",
       "      <th>1</th>\n",
       "      <td>Going away? For how long?\\n</td>\n",
       "    </tr>\n",
       "    <tr>\n",
       "      <th>2</th>\n",
       "      <td>Forever.\\n</td>\n",
       "    </tr>\n",
       "    <tr>\n",
       "      <th>4</th>\n",
       "      <td>Chef said he's been bored, so he joining a gro...</td>\n",
       "    </tr>\n",
       "    <tr>\n",
       "      <th>9</th>\n",
       "      <td>I'm gonna miss him.  I'm gonna miss Chef and I...</td>\n",
       "    </tr>\n",
       "    <tr>\n",
       "      <th>...</th>\n",
       "      <td>...</td>\n",
       "    </tr>\n",
       "    <tr>\n",
       "      <th>70891</th>\n",
       "      <td>I think you're pushing it.\\n</td>\n",
       "    </tr>\n",
       "    <tr>\n",
       "      <th>70892</th>\n",
       "      <td>How about twenty?\\n</td>\n",
       "    </tr>\n",
       "    <tr>\n",
       "      <th>70893</th>\n",
       "      <td>That's not disciprine.\\n</td>\n",
       "    </tr>\n",
       "    <tr>\n",
       "      <th>70894</th>\n",
       "      <td>Right right. Does vodka count?\\n</td>\n",
       "    </tr>\n",
       "    <tr>\n",
       "      <th>70895</th>\n",
       "      <td>Dad!\\n</td>\n",
       "    </tr>\n",
       "  </tbody>\n",
       "</table>\n",
       "<p>29622 rows × 1 columns</p>\n",
       "</div>"
      ],
      "text/plain": [
       "                                                    Line\n",
       "0             You guys, you guys! Chef is going away. \\n\n",
       "1                            Going away? For how long?\\n\n",
       "2                                             Forever.\\n\n",
       "4      Chef said he's been bored, so he joining a gro...\n",
       "9      I'm gonna miss him.  I'm gonna miss Chef and I...\n",
       "...                                                  ...\n",
       "70891                       I think you're pushing it.\\n\n",
       "70892                                How about twenty?\\n\n",
       "70893                           That's not disciprine.\\n\n",
       "70894                   Right right. Does vodka count?\\n\n",
       "70895                                             Dad!\\n\n",
       "\n",
       "[29622 rows x 1 columns]"
      ]
     },
     "execution_count": 8,
     "metadata": {},
     "output_type": "execute_result"
    }
   ],
   "source": [
    "X"
   ]
  },
  {
   "cell_type": "code",
   "execution_count": 9,
   "metadata": {},
   "outputs": [
    {
     "data": {
      "text/plain": [
       "0           Stan\n",
       "1           Kyle\n",
       "2           Stan\n",
       "4           Stan\n",
       "9        Cartman\n",
       "          ...   \n",
       "70891       Stan\n",
       "70892      Randy\n",
       "70893       Stan\n",
       "70894      Randy\n",
       "70895       Stan\n",
       "Name: Character, Length: 29622, dtype: object"
      ]
     },
     "execution_count": 9,
     "metadata": {},
     "output_type": "execute_result"
    }
   ],
   "source": [
    "Y"
   ]
  },
  {
   "cell_type": "code",
   "execution_count": 10,
   "metadata": {},
   "outputs": [
    {
     "name": "stdout",
     "output_type": "stream",
     "text": [
      "(22216, 1), (7406, 1)\n",
      "(22216,), (7406,)\n"
     ]
    }
   ],
   "source": [
    "X_train, X_test, Y_train, Y_test = train_test_split(X, Y, test_size=0.25, random_state=1)\n",
    "print('{}, {}'.format(X_train.shape, X_test.shape))\n",
    "print('{}, {}'.format(Y_train.shape, Y_test.shape))"
   ]
  },
  {
   "cell_type": "code",
   "execution_count": 12,
   "metadata": {},
   "outputs": [
    {
     "data": {
      "text/plain": [
       "TfidfVectorizer(analyzer='word', binary=False, decode_error='strict',\n",
       "                dtype=<class 'numpy.float64'>, encoding='utf-8',\n",
       "                input='content', lowercase=True, max_df=1.0, max_features=None,\n",
       "                min_df=1, ngram_range=(1, 1), norm='l2', preprocessor=None,\n",
       "                smooth_idf=True, stop_words=None, strip_accents=None,\n",
       "                sublinear_tf=False, token_pattern='(?u)\\\\b\\\\w\\\\w+\\\\b',\n",
       "                tokenizer=None, use_idf=True, vocabulary=None)"
      ]
     },
     "execution_count": 12,
     "metadata": {},
     "output_type": "execute_result"
    }
   ],
   "source": [
    "vectorizer = TfidfVectorizer()\n",
    "vectorizer.fit(X_train + X_test)"
   ]
  },
  {
   "cell_type": "code",
   "execution_count": 13,
   "metadata": {},
   "outputs": [
    {
     "data": {
      "text/html": [
       "<div>\n",
       "<style scoped>\n",
       "    .dataframe tbody tr th:only-of-type {\n",
       "        vertical-align: middle;\n",
       "    }\n",
       "\n",
       "    .dataframe tbody tr th {\n",
       "        vertical-align: top;\n",
       "    }\n",
       "\n",
       "    .dataframe thead th {\n",
       "        text-align: right;\n",
       "    }\n",
       "</style>\n",
       "<table border=\"1\" class=\"dataframe\">\n",
       "  <thead>\n",
       "    <tr style=\"text-align: right;\">\n",
       "      <th></th>\n",
       "      <th>Line</th>\n",
       "    </tr>\n",
       "  </thead>\n",
       "  <tbody>\n",
       "    <tr>\n",
       "      <th>12000</th>\n",
       "      <td>Dude, asshole, you're keeping a lot of other c...</td>\n",
       "    </tr>\n",
       "    <tr>\n",
       "      <th>38924</th>\n",
       "      <td>This is gonna be fun.\\n</td>\n",
       "    </tr>\n",
       "    <tr>\n",
       "      <th>31154</th>\n",
       "      <td>You can say that again.\\n</td>\n",
       "    </tr>\n",
       "    <tr>\n",
       "      <th>3765</th>\n",
       "      <td>Uh! \\n</td>\n",
       "    </tr>\n",
       "    <tr>\n",
       "      <th>13854</th>\n",
       "      <td>No, let me tell you somethin', fellers! You al...</td>\n",
       "    </tr>\n",
       "    <tr>\n",
       "      <th>...</th>\n",
       "      <td>...</td>\n",
       "    </tr>\n",
       "    <tr>\n",
       "      <th>26626</th>\n",
       "      <td>What?! You said nobody would know!\\n</td>\n",
       "    </tr>\n",
       "    <tr>\n",
       "      <th>42206</th>\n",
       "      <td>Cartman just hit the button, and the ship flew...</td>\n",
       "    </tr>\n",
       "    <tr>\n",
       "      <th>12703</th>\n",
       "      <td>Whoa, wait wait, we don't wanna just lie about...</td>\n",
       "    </tr>\n",
       "    <tr>\n",
       "      <th>28952</th>\n",
       "      <td>There he goes again.\\n</td>\n",
       "    </tr>\n",
       "    <tr>\n",
       "      <th>523</th>\n",
       "      <td>Hybrid cars don't cause smugness, people do.  ...</td>\n",
       "    </tr>\n",
       "  </tbody>\n",
       "</table>\n",
       "<p>22216 rows × 1 columns</p>\n",
       "</div>"
      ],
      "text/plain": [
       "                                                    Line\n",
       "12000  Dude, asshole, you're keeping a lot of other c...\n",
       "38924                            This is gonna be fun.\\n\n",
       "31154                          You can say that again.\\n\n",
       "3765                                              Uh! \\n\n",
       "13854  No, let me tell you somethin', fellers! You al...\n",
       "...                                                  ...\n",
       "26626               What?! You said nobody would know!\\n\n",
       "42206  Cartman just hit the button, and the ship flew...\n",
       "12703  Whoa, wait wait, we don't wanna just lie about...\n",
       "28952                             There he goes again.\\n\n",
       "523    Hybrid cars don't cause smugness, people do.  ...\n",
       "\n",
       "[22216 rows x 1 columns]"
      ]
     },
     "execution_count": 13,
     "metadata": {},
     "output_type": "execute_result"
    }
   ],
   "source": [
    "X_train"
   ]
  },
  {
   "cell_type": "code",
   "execution_count": 17,
   "metadata": {},
   "outputs": [],
   "source": [
    "X_train_vec = vectorizer.transform(X_train['Line'])\n",
    "X_test_vec = vectorizer.transform(X_test['Line'])"
   ]
  },
  {
   "cell_type": "code",
   "execution_count": 18,
   "metadata": {},
   "outputs": [
    {
     "data": {
      "text/plain": [
       "(22216, 1)"
      ]
     },
     "execution_count": 18,
     "metadata": {},
     "output_type": "execute_result"
    }
   ],
   "source": [
    "X_train_vec.shape"
   ]
  },
  {
   "cell_type": "code",
   "execution_count": 43,
   "metadata": {},
   "outputs": [],
   "source": [
    "def test(model):\n",
    "    print(model)\n",
    "    model.fit(X_train_vec, Y_train)\n",
    "    print(\"accuracy:\", accuracy_score(Y_test, model.predict(X_test_vec)))"
   ]
  },
  {
   "cell_type": "code",
   "execution_count": 44,
   "metadata": {},
   "outputs": [
    {
     "name": "stdout",
     "output_type": "stream",
     "text": [
      "LogisticRegression(C=1.0, class_weight=None, dual=False, fit_intercept=True,\n",
      "                   intercept_scaling=1, l1_ratio=None, max_iter=100,\n",
      "                   multi_class='auto', n_jobs=None, penalty='l2',\n",
      "                   random_state=None, solver='lbfgs', tol=0.0001, verbose=0,\n",
      "                   warm_start=False)\n",
      "accuracy: 0.32919254658385094\n"
     ]
    }
   ],
   "source": [
    "test(LogisticRegression(solver='lbfgs', multi_class='auto'))"
   ]
  },
  {
   "cell_type": "code",
   "execution_count": 45,
   "metadata": {},
   "outputs": [
    {
     "name": "stdout",
     "output_type": "stream",
     "text": [
      "LinearSVC(C=1.0, class_weight=None, dual=True, fit_intercept=True,\n",
      "          intercept_scaling=1, loss='squared_hinge', max_iter=1000,\n",
      "          multi_class='ovr', penalty='l2', random_state=None, tol=0.0001,\n",
      "          verbose=0)\n",
      "accuracy: 0.32919254658385094\n"
     ]
    }
   ],
   "source": [
    "test(LinearSVC())"
   ]
  },
  {
   "cell_type": "code",
   "execution_count": 46,
   "metadata": {},
   "outputs": [
    {
     "name": "stdout",
     "output_type": "stream",
     "text": [
      "MultinomialNB(alpha=1.0, class_prior=None, fit_prior=True)\n",
      "accuracy: 0.32919254658385094\n"
     ]
    }
   ],
   "source": [
    "test(MultinomialNB())"
   ]
  },
  {
   "cell_type": "code",
   "execution_count": 47,
   "metadata": {},
   "outputs": [
    {
     "name": "stdout",
     "output_type": "stream",
     "text": [
      "ComplementNB(alpha=1.0, class_prior=None, fit_prior=True, norm=False)\n",
      "accuracy: 0.08817175263300027\n"
     ]
    }
   ],
   "source": [
    "test(ComplementNB())"
   ]
  },
  {
   "cell_type": "code",
   "execution_count": 48,
   "metadata": {},
   "outputs": [
    {
     "name": "stdout",
     "output_type": "stream",
     "text": [
      "BernoulliNB(alpha=1.0, binarize=0.0, class_prior=None, fit_prior=True)\n",
      "accuracy: 0.32919254658385094\n"
     ]
    }
   ],
   "source": [
    "test(BernoulliNB())"
   ]
  }
 ],
 "metadata": {
  "kernelspec": {
   "display_name": "Python 3",
   "language": "python",
   "name": "python3"
  },
  "language_info": {
   "codemirror_mode": {
    "name": "ipython",
    "version": 3
   },
   "file_extension": ".py",
   "mimetype": "text/x-python",
   "name": "python",
   "nbconvert_exporter": "python",
   "pygments_lexer": "ipython3",
   "version": "3.7.0"
  }
 },
 "nbformat": 4,
 "nbformat_minor": 4
}
